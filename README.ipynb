{
 "cells": [
  {
   "cell_type": "markdown",
   "metadata": {},
   "source": [
    "# Solutions for Math Exam Variants"
   ]
  },
  {
   "cell_type": "markdown",
   "metadata": {},
   "source": [
    "[Математика. Профильный уровень. 20 вариантов тестов. Тематическая рабочая тетрадь.](https://drive.google.com/file/d/0B8CJrELbJAyodmtvbV8xcEtZXzA/view)"
   ]
  },
  {
   "cell_type": "markdown",
   "metadata": {},
   "source": [
    "### Variant 11:  &nbsp; [Notebook &#x1F310; &nbsp;](https://github.com/OlgaBelitskaya/math_20172018/blob/master/2018_Variant11.ipynb) [Web &#x1F310;](https://olgabelitskaya.github.io/2018_Variant11.html)\n",
    "\n",
    "### Variant 12:  &nbsp; [Notebook &#x1F310; &nbsp;](https://github.com/OlgaBelitskaya/math_20172018/blob/master/2018_Variant12.ipynb) &nbsp; [Web &#x1F310;](https://olgabelitskaya.github.io/2018_Variant12.html)\n",
    "\n",
    "### Variant 13:  &nbsp; [Notebook &#x1F310;](https://github.com/OlgaBelitskaya/math_20172018/blob/master/2018_Variant13.ipynb) &nbsp; [Web &#x1F310;](https://olgabelitskaya.github.io/2018_Variant13.html)\n",
    "\n",
    "### Variant 14: &nbsp; [Notebook &#x1F310;](https://github.com/OlgaBelitskaya/math_20172018/blob/master/2018_Variant14.ipynb) &nbsp; [Web &#x1F310;](https://olgabelitskaya.github.io/2018_Variant14.html)\n",
    "\n",
    "### Variant 15:  &nbsp; [Notebook &#x1F310;](https://github.com/OlgaBelitskaya/math_20172018/blob/master/2018_Variant15.ipynb) &nbsp; [Web &#x1F310;](https://olgabelitskaya.github.io/2018_Variant15.html)\n",
    "\n",
    "### Variant 16:  &nbsp; [Notebook &#x1F310;](https://github.com/OlgaBelitskaya/math_20172018/blob/master/2018_Variant16.ipynb) &nbsp; [Web &#x1F310;](https://olgabelitskaya.github.io/2018_Variant16.html)\n",
    "\n",
    "### Variant 17:  &nbsp; [Notebook &#x1F310;](https://github.com/OlgaBelitskaya/math_20172018/blob/master/2018_Variant17.ipynb) &nbsp; [Web &#x1F310;](https://olgabelitskaya.github.io/2018_Variant17.html)\n",
    "\n",
    "### Variant 18:  &nbsp; [Notebook &#x1F310;](https://github.com/OlgaBelitskaya/math_20172018/blob/master/2018_Variant18.ipynb) &nbsp; [Web &#x1F310;](https://olgabelitskaya.github.io/2018_Variant18.html)\n",
    "\n",
    "### Variant 19:  &nbsp; [Notebook &#x1F310;](https://github.com/OlgaBelitskaya/math_20172018/blob/master/2018_Variant19.ipynb) &nbsp; [Web &#x1F310;](https://olgabelitskaya.github.io/2018_Variant19.html)\n",
    "\n",
    "### Variant 20:  &nbsp; [Notebook &#x1F310;](https://github.com/OlgaBelitskaya/math_20172018/blob/master/2018_Variant20.ipynb) &nbsp; [Web &#x1F310;](https://olgabelitskaya.github.io/2018_Variant20.html)"
   ]
  },
  {
   "cell_type": "markdown",
   "metadata": {},
   "source": [
    "# Useful Links"
   ]
  },
  {
   "cell_type": "markdown",
   "metadata": {},
   "source": [
    "[Встречи c финансовой математикой](https://ege.sdamgia.ru/doc/math/gushchin_dd-finmatematika.pdf)\n",
    "\n",
    "[Метод рационализации неравенств (логарифмы)](http://internat.msu.ru/wp-content/uploads/2015/11/Metod-ratsionalizatsii-neravenstv-1.pdf)\n",
    "\n",
    "[LaTeX Mathematics](https://en.wikibooks.org/wiki/LaTeX/Mathematics)\n",
    "\n",
    "[SymPy Tutorials](http://nbviewer.jupyter.org/url/www.inp.nsk.su/~grozin/python/sympy.ipynb)\n",
    "\n",
    "[Wolfram Programming Lab](https://lab.open.wolframcloud.com/app/)"
   ]
  },
  {
   "cell_type": "code",
   "execution_count": 1,
   "metadata": {},
   "outputs": [
    {
     "data": {
      "text/html": [
       "<style>\n",
       "@import url('https://fonts.googleapis.com/css?family=Roboto&effect=3d|scuffed-steel|static|canvas-print|');  \n",
       "a, h1 h2, h3, h4, div.text_cell_render {font-family: 'Roboto'; text-shadow: 4px 4px 4px #aaa;} \n",
       "                                       \n",
       "h2, h3, div.output_prompt, div.output_area pre {color: slategray;}\n",
       "h1, h4, div.input_prompt {color: steelblue;}\n",
       "a, div.output_subarea {color: darkblue;} \n",
       "     \n",
       "span {text-shadow: 4px 4px 4px #aaa;}    \n",
       "      \n",
       "body, div.output_stderr pre{background-color: aliceblue;}                  \n",
       "div.output_stderr {background-color: slategray;}                        \n",
       "</style>"
      ],
      "text/plain": [
       "<IPython.core.display.HTML object>"
      ]
     },
     "metadata": {},
     "output_type": "display_data"
    }
   ],
   "source": [
    "%%html\n",
    "<style>\n",
    "@import url('https://fonts.googleapis.com/css?family=Roboto&effect=3d|scuffed-steel|static|canvas-print|');  \n",
    "a, h1 h2, h3, h4, div.text_cell_render {font-family: 'Roboto'; text-shadow: 4px 4px 4px #aaa;} \n",
    "                                       \n",
    "h2, h3, div.output_prompt, div.output_area pre {color: slategray;}\n",
    "h1, h4, div.input_prompt {color: steelblue;}\n",
    "a, div.output_subarea {color: darkblue;} \n",
    "     \n",
    "span {text-shadow: 4px 4px 4px #aaa;}    \n",
    "      \n",
    "body, div.output_stderr pre{background-color: aliceblue;}                  \n",
    "div.output_stderr {background-color: slategray;}                        \n",
    "</style>"
   ]
  }
 ],
 "metadata": {
  "kernelspec": {
   "display_name": "Python 3",
   "language": "python",
   "name": "python3"
  },
  "language_info": {
   "codemirror_mode": {
    "name": "ipython",
    "version": 3
   },
   "file_extension": ".py",
   "mimetype": "text/x-python",
   "name": "python",
   "nbconvert_exporter": "python",
   "pygments_lexer": "ipython3",
   "version": "3.6.4"
  }
 },
 "nbformat": 4,
 "nbformat_minor": 2
}
